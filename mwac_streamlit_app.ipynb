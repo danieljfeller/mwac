{
 "cells": [
  {
   "cell_type": "code",
   "execution_count": null,
   "id": "69b87edf",
   "metadata": {},
   "outputs": [],
   "source": [
    "pip install streamlit"
   ]
  },
  {
   "cell_type": "code",
   "execution_count": 17,
   "id": "d7329818",
   "metadata": {},
   "outputs": [],
   "source": [
    "import streamlit as st\n",
    "import pandas as pd"
   ]
  },
  {
   "cell_type": "markdown",
   "id": "2e5d2db4",
   "metadata": {},
   "source": [
    "### Data Preparation\n",
    "1. Replace missing values with 0\n",
    "2. Create a 'Winter' identifier (e.g. 2023-2024) \n",
    "3. Create an 'inches' column from the existing 'centimeter' column "
   ]
  },
  {
   "cell_type": "code",
   "execution_count": 76,
   "id": "8bf0d9b9",
   "metadata": {},
   "outputs": [],
   "source": [
    "df = pd.read_csv(\"data/hermit_lake_snowdepth.csv\")\n",
    "\n",
    "# fill missing values with NA\n",
    "df = df.fillna(0) # replace missing values with 0\n",
    "\n",
    "# extract day, month, and year from date\n",
    "df['date'] = pd.to_datetime(df['date'])\n",
    "df['year'] = df['date'].dt.year\n",
    "df['month'] = df['date'].dt.month\n",
    "df['day'] = df['date'].dt.day\n",
    "df['month_day'] = df['month'].astype(str) + '-' + df['day'].astype(str)\n",
    "\n",
    "# ascertain winter \n",
    "# if month is october-december generate '{year}-{year+1}'\n",
    "# if month is january-june generate '{year-1}-{year}'\n",
    "\n",
    "def get_winter(X):\n",
    "    winter_list = []\n",
    "    \n",
    "    # loop over all rows in dataframe\n",
    "    for index, row in X.iterrows():     \n",
    "        \n",
    "        # if month is july - december\n",
    "        if row['month'] > 6:\n",
    "            winter_list.append(str(row['year']) + '-' + str(row['year']+1))\n",
    "        \n",
    "        # if month is january - june\n",
    "        else:\n",
    "            winter_list.append(str(row['year']-1) + '-' + str(row['year']))\n",
    "\n",
    "    return winter_list\n",
    "    \n",
    "df['winter'] = get_winter(df)\n",
    "\n",
    "df.to_csv(\"data/cleaned_hermit_lake_snowdepth.csv\")"
   ]
  },
  {
   "cell_type": "markdown",
   "id": "19d21893",
   "metadata": {},
   "source": [
    "### Generate historical averages"
   ]
  },
  {
   "cell_type": "code",
   "execution_count": 77,
   "id": "56783aab",
   "metadata": {},
   "outputs": [],
   "source": [
    "historical_averages = df.groupby('month_day')['depth_cm'].mean().reset_index()\n",
    "historical_averages['date'] = pd.to_datetime(historical_averages['month_day'] + '-2024')\n",
    "historical_averages = historical_averages.sort_values(['date'])\n",
    "\n",
    "historical_averages.to_csv(\"data/historical_averages.csv\")"
   ]
  },
  {
   "cell_type": "code",
   "execution_count": 74,
   "id": "99c68d1f",
   "metadata": {},
   "outputs": [
    {
     "data": {
      "text/html": [
       "<div>\n",
       "<style scoped>\n",
       "    .dataframe tbody tr th:only-of-type {\n",
       "        vertical-align: middle;\n",
       "    }\n",
       "\n",
       "    .dataframe tbody tr th {\n",
       "        vertical-align: top;\n",
       "    }\n",
       "\n",
       "    .dataframe thead th {\n",
       "        text-align: right;\n",
       "    }\n",
       "</style>\n",
       "<table border=\"1\" class=\"dataframe\">\n",
       "  <thead>\n",
       "    <tr style=\"text-align: right;\">\n",
       "      <th></th>\n",
       "      <th>month_day</th>\n",
       "      <th>depth_cm</th>\n",
       "      <th>date</th>\n",
       "    </tr>\n",
       "  </thead>\n",
       "  <tbody>\n",
       "    <tr>\n",
       "      <th>0</th>\n",
       "      <td>1-1</td>\n",
       "      <td>72.833333</td>\n",
       "      <td>2024-01-01</td>\n",
       "    </tr>\n",
       "    <tr>\n",
       "      <th>11</th>\n",
       "      <td>1-2</td>\n",
       "      <td>80.333333</td>\n",
       "      <td>2024-01-02</td>\n",
       "    </tr>\n",
       "    <tr>\n",
       "      <th>22</th>\n",
       "      <td>1-3</td>\n",
       "      <td>82.666667</td>\n",
       "      <td>2024-01-03</td>\n",
       "    </tr>\n",
       "    <tr>\n",
       "      <th>25</th>\n",
       "      <td>1-4</td>\n",
       "      <td>77.333333</td>\n",
       "      <td>2024-01-04</td>\n",
       "    </tr>\n",
       "    <tr>\n",
       "      <th>26</th>\n",
       "      <td>1-5</td>\n",
       "      <td>81.000000</td>\n",
       "      <td>2024-01-05</td>\n",
       "    </tr>\n",
       "    <tr>\n",
       "      <th>...</th>\n",
       "      <td>...</td>\n",
       "      <td>...</td>\n",
       "      <td>...</td>\n",
       "    </tr>\n",
       "    <tr>\n",
       "      <th>80</th>\n",
       "      <td>12-27</td>\n",
       "      <td>76.400000</td>\n",
       "      <td>2024-12-27</td>\n",
       "    </tr>\n",
       "    <tr>\n",
       "      <th>81</th>\n",
       "      <td>12-28</td>\n",
       "      <td>71.800000</td>\n",
       "      <td>2024-12-28</td>\n",
       "    </tr>\n",
       "    <tr>\n",
       "      <th>82</th>\n",
       "      <td>12-29</td>\n",
       "      <td>67.800000</td>\n",
       "      <td>2024-12-29</td>\n",
       "    </tr>\n",
       "    <tr>\n",
       "      <th>84</th>\n",
       "      <td>12-30</td>\n",
       "      <td>74.600000</td>\n",
       "      <td>2024-12-30</td>\n",
       "    </tr>\n",
       "    <tr>\n",
       "      <th>85</th>\n",
       "      <td>12-31</td>\n",
       "      <td>78.400000</td>\n",
       "      <td>2024-12-31</td>\n",
       "    </tr>\n",
       "  </tbody>\n",
       "</table>\n",
       "<p>213 rows × 3 columns</p>\n",
       "</div>"
      ],
      "text/plain": [
       "   month_day   depth_cm       date\n",
       "0        1-1  72.833333 2024-01-01\n",
       "11       1-2  80.333333 2024-01-02\n",
       "22       1-3  82.666667 2024-01-03\n",
       "25       1-4  77.333333 2024-01-04\n",
       "26       1-5  81.000000 2024-01-05\n",
       "..       ...        ...        ...\n",
       "80     12-27  76.400000 2024-12-27\n",
       "81     12-28  71.800000 2024-12-28\n",
       "82     12-29  67.800000 2024-12-29\n",
       "84     12-30  74.600000 2024-12-30\n",
       "85     12-31  78.400000 2024-12-31\n",
       "\n",
       "[213 rows x 3 columns]"
      ]
     },
     "execution_count": 74,
     "metadata": {},
     "output_type": "execute_result"
    }
   ],
   "source": [
    "historical_averages"
   ]
  },
  {
   "cell_type": "code",
   "execution_count": 68,
   "id": "66e0f3c5",
   "metadata": {},
   "outputs": [
    {
     "data": {
      "image/png": "[encoded data removed]",
      "text/plain": [
       "<Figure size 640x480 with 1 Axes>"
      ]
     },
     "metadata": {},
     "output_type": "display_data"
    }
   ],
   "source": [
    "import matplotlib.pyplot as plt\n",
    "import datetime\n",
    "import numpy as np\n",
    "\n",
    "plt.plot(historical_averages.date,historical_averages.depth_cm)\n",
    "plt.show()"
   ]
  },
  {
   "cell_type": "code",
   "execution_count": 75,
   "id": "fb4c8edb",
   "metadata": {},
   "outputs": [
    {
     "name": "stderr",
     "output_type": "stream",
     "text": [
      "/Users/daniel/anaconda3/lib/python3.11/site-packages/pyarrow/pandas_compat.py:373: FutureWarning: is_sparse is deprecated and will be removed in a future version. Check `isinstance(dtype, pd.SparseDtype)` instead.\n",
      "  if _pandas_api.is_sparse(col):\n",
      "/Users/daniel/anaconda3/lib/python3.11/site-packages/pyarrow/pandas_compat.py:373: FutureWarning: is_sparse is deprecated and will be removed in a future version. Check `isinstance(dtype, pd.SparseDtype)` instead.\n",
      "  if _pandas_api.is_sparse(col):\n"
     ]
    },
    {
     "data": {
      "text/plain": [
       "DeltaGenerator()"
      ]
     },
     "execution_count": 75,
     "metadata": {},
     "output_type": "execute_result"
    }
   ],
   "source": [
    "# Display the DataFrame\n",
    "st.write(\"Snow Depth Data:\")\n",
    "st.dataframe(df)\n",
    "\n",
    "# Plot the line chart\n",
    "st.write(\"Snow Depth Over Time:\")\n",
    "st.line_chart(df.set_index('date')['depth_cm'])"
   ]
  },
  {
   "cell_type": "code",
   "execution_count": null,
   "id": "61580a91",
   "metadata": {},
   "outputs": [],
   "source": [
    "st.title('Historical Average Snow Depth - Mt. Washington')\n"
   ]
  },
  {
   "cell_type": "code",
   "execution_count": null,
   "id": "44f8cd07",
   "metadata": {},
   "outputs": [],
   "source": []
  }
 ],
 "metadata": {
  "kernelspec": {
   "display_name": "Python 3 (ipykernel)",
   "language": "python",
   "name": "python3"
  },
  "language_info": {
   "codemirror_mode": {
    "name": "ipython",
    "version": 3
   },
   "file_extension": ".py",
   "mimetype": "text/x-python",
   "name": "python",
   "nbconvert_exporter": "python",
   "pygments_lexer": "ipython3",
   "version": "3.11.5"
  }
 },
 "nbformat": 4,
 "nbformat_minor": 5
}
